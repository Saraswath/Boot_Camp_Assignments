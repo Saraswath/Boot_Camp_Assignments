{
 "cells": [
  {
   "cell_type": "markdown",
   "metadata": {},
   "source": [
    "## 1. Distance close to zero"
   ]
  },
  {
   "cell_type": "code",
   "execution_count": 19,
   "metadata": {},
   "outputs": [
    {
     "name": "stdout",
     "output_type": "stream",
     "text": [
      "[1.0, 2.0, 0.0, 1.0, 2.0, 3.0, 4.0, 0.0, 1.0, 2.0]\n"
     ]
    }
   ],
   "source": [
    "import pandas as pd\n",
    "import numpy as np\n",
    "df = pd.DataFrame({'X': [7, 2, 0, 3, 4, 2, 5, 0, 3, 4]})\n",
    "x = (df['X'] != 0).cumsum()\n",
    "y = x != x.shift()\n",
    "df['Y'] = y.groupby((y != y.shift()).cumsum()).cumsum()\n",
    "print(list(df['Y']))"
   ]
  },
  {
   "cell_type": "markdown",
   "metadata": {},
   "source": [
    "## 2. Index Series of Random Numbers"
   ]
  },
  {
   "cell_type": "code",
   "execution_count": 21,
   "metadata": {},
   "outputs": [],
   "source": [
    "date = pd.date_range(start='2015-01-01', end='2015-12-31', freq='B') \n",
    "series = pd.Series(np.random.rand(len(date)), index=date)"
   ]
  },
  {
   "cell_type": "code",
   "execution_count": 25,
   "metadata": {},
   "outputs": [
    {
     "data": {
      "text/plain": [
       "DatetimeIndex(['2015-01-01', '2015-01-02', '2015-01-05', '2015-01-06',\n",
       "               '2015-01-07', '2015-01-08', '2015-01-09', '2015-01-12',\n",
       "               '2015-01-13', '2015-01-14',\n",
       "               ...\n",
       "               '2015-12-18', '2015-12-21', '2015-12-22', '2015-12-23',\n",
       "               '2015-12-24', '2015-12-25', '2015-12-28', '2015-12-29',\n",
       "               '2015-12-30', '2015-12-31'],\n",
       "              dtype='datetime64[ns]', length=261, freq='B')"
      ]
     },
     "execution_count": 25,
     "metadata": {},
     "output_type": "execute_result"
    }
   ],
   "source": [
    "date"
   ]
  },
  {
   "cell_type": "code",
   "execution_count": 26,
   "metadata": {},
   "outputs": [
    {
     "data": {
      "text/plain": [
       "2015-01-01    0.118983\n",
       "2015-01-02    0.578158\n",
       "2015-01-05    0.058667\n",
       "2015-01-06    0.356881\n",
       "2015-01-07    0.874069\n",
       "2015-01-08    0.067820\n",
       "2015-01-09    0.408327\n",
       "2015-01-12    0.682237\n",
       "2015-01-13    0.046368\n",
       "2015-01-14    0.464687\n",
       "2015-01-15    0.919006\n",
       "2015-01-16    0.763502\n",
       "2015-01-19    0.924357\n",
       "2015-01-20    0.486410\n",
       "2015-01-21    0.064461\n",
       "2015-01-22    0.934257\n",
       "2015-01-23    0.013966\n",
       "2015-01-26    0.578478\n",
       "2015-01-27    0.967851\n",
       "2015-01-28    0.840496\n",
       "2015-01-29    0.486736\n",
       "2015-01-30    0.305345\n",
       "2015-02-02    0.063077\n",
       "2015-02-03    0.488839\n",
       "2015-02-04    0.863555\n",
       "2015-02-05    0.788290\n",
       "2015-02-06    0.183075\n",
       "2015-02-09    0.022988\n",
       "2015-02-10    0.371293\n",
       "2015-02-11    0.464625\n",
       "                ...   \n",
       "2015-11-20    0.044693\n",
       "2015-11-23    0.809645\n",
       "2015-11-24    0.891374\n",
       "2015-11-25    0.980633\n",
       "2015-11-26    0.266965\n",
       "2015-11-27    0.248157\n",
       "2015-11-30    0.503380\n",
       "2015-12-01    0.843559\n",
       "2015-12-02    0.248015\n",
       "2015-12-03    0.952835\n",
       "2015-12-04    0.731341\n",
       "2015-12-07    0.014077\n",
       "2015-12-08    0.573804\n",
       "2015-12-09    0.038894\n",
       "2015-12-10    0.599581\n",
       "2015-12-11    0.482596\n",
       "2015-12-14    0.811047\n",
       "2015-12-15    0.446569\n",
       "2015-12-16    0.671999\n",
       "2015-12-17    0.157335\n",
       "2015-12-18    0.449346\n",
       "2015-12-21    0.246338\n",
       "2015-12-22    0.431495\n",
       "2015-12-23    0.218467\n",
       "2015-12-24    0.511545\n",
       "2015-12-25    0.842603\n",
       "2015-12-28    0.736012\n",
       "2015-12-29    0.184065\n",
       "2015-12-30    0.132573\n",
       "2015-12-31    0.500312\n",
       "Freq: B, Length: 261, dtype: float64"
      ]
     },
     "execution_count": 26,
     "metadata": {},
     "output_type": "execute_result"
    }
   ],
   "source": [
    "series"
   ]
  },
  {
   "cell_type": "markdown",
   "metadata": {},
   "source": [
    "## 3. Sum of values for every Wednesday"
   ]
  },
  {
   "cell_type": "code",
   "execution_count": 30,
   "metadata": {},
   "outputs": [
    {
     "data": {
      "text/plain": [
       "25.6040787362289"
      ]
     },
     "execution_count": 30,
     "metadata": {},
     "output_type": "execute_result"
    }
   ],
   "source": [
    "series[date.weekday == 2].sum()"
   ]
  },
  {
   "cell_type": "markdown",
   "metadata": {},
   "source": [
    "## 4. Average For each calendar month"
   ]
  },
  {
   "cell_type": "code",
   "execution_count": 33,
   "metadata": {},
   "outputs": [
    {
     "name": "stderr",
     "output_type": "stream",
     "text": [
      "C:\\Users\\saraswathy\\Anaconda3\\lib\\site-packages\\ipykernel_launcher.py:1: FutureWarning: how in .resample() is deprecated\n",
      "the new syntax is .resample(...).mean()\n",
      "  \"\"\"Entry point for launching an IPython kernel.\n"
     ]
    },
    {
     "data": {
      "text/plain": [
       "2015-01-31    0.497321\n",
       "2015-02-28    0.504110\n",
       "2015-03-31    0.440491\n",
       "2015-04-30    0.519726\n",
       "2015-05-31    0.473185\n",
       "2015-06-30    0.521123\n",
       "2015-07-31    0.474120\n",
       "2015-08-31    0.357359\n",
       "2015-09-30    0.495376\n",
       "2015-10-31    0.439859\n",
       "2015-11-30    0.400077\n",
       "2015-12-31    0.470626\n",
       "Freq: M, dtype: float64"
      ]
     },
     "execution_count": 33,
     "metadata": {},
     "output_type": "execute_result"
    }
   ],
   "source": [
    "series.resample('M', how='mean')"
   ]
  },
  {
   "cell_type": "markdown",
   "metadata": {},
   "source": [
    "## 5. Date on which the highest value occurred"
   ]
  },
  {
   "cell_type": "code",
   "execution_count": 38,
   "metadata": {},
   "outputs": [
    {
     "name": "stderr",
     "output_type": "stream",
     "text": [
      "C:\\Users\\saraswathy\\Anaconda3\\lib\\site-packages\\ipykernel_launcher.py:1: FutureWarning: pd.TimeGrouper is deprecated and will be removed; Please use pd.Grouper(freq=...)\n",
      "  \"\"\"Entry point for launching an IPython kernel.\n"
     ]
    },
    {
     "data": {
      "text/plain": [
       "2015-01-31   2015-01-27\n",
       "2015-05-31   2015-04-17\n",
       "2015-09-30   2015-06-16\n",
       "2016-01-31   2015-11-25\n",
       "dtype: datetime64[ns]"
      ]
     },
     "execution_count": 38,
     "metadata": {},
     "output_type": "execute_result"
    }
   ],
   "source": [
    "series.groupby(pd.TimeGrouper('4M')).idxmax()"
   ]
  }
 ],
 "metadata": {
  "kernelspec": {
   "display_name": "Python 3",
   "language": "python",
   "name": "python3"
  },
  "language_info": {
   "codemirror_mode": {
    "name": "ipython",
    "version": 3
   },
   "file_extension": ".py",
   "mimetype": "text/x-python",
   "name": "python",
   "nbconvert_exporter": "python",
   "pygments_lexer": "ipython3",
   "version": "3.6.5"
  }
 },
 "nbformat": 4,
 "nbformat_minor": 2
}
