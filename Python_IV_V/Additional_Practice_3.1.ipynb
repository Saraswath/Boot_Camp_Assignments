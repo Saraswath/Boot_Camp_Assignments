{
 "cells": [
  {
   "cell_type": "markdown",
   "metadata": {},
   "source": [
    "## 1. Area of Cone"
   ]
  },
  {
   "cell_type": "code",
   "execution_count": 54,
   "metadata": {},
   "outputs": [
    {
     "name": "stdout",
     "output_type": "stream",
     "text": [
      "Please enter radius of cone: 2\n",
      "Please enter height of cone: 3\n"
     ]
    },
    {
     "data": {
      "text/plain": [
       "'Area of a cone with radius 2 and height 3 is 31.42'"
      ]
     },
     "execution_count": 54,
     "metadata": {},
     "output_type": "execute_result"
    }
   ],
   "source": [
    "import math\n",
    "class Cone():\n",
    "    def __init__(self,radius,height):\n",
    "        self.radius=radius\n",
    "        self.height=height\n",
    "    def area(self):\n",
    "        a= round(math.pi*self.radius*(self.height+self.radius),2)\n",
    "        return \"Area of a cone with radius {} and height {} is {}\".format(self.radius,self.height,a)\n",
    " \n",
    "r=int(input(\"Please enter radius of cone: \"))\n",
    "h=int(input(\"Please enter height of cone: \"))\n",
    "c=Cone(r,h)\n",
    "c.area()"
   ]
  },
  {
   "cell_type": "markdown",
   "metadata": {},
   "source": [
    "## 2. Pow()"
   ]
  },
  {
   "cell_type": "code",
   "execution_count": 12,
   "metadata": {},
   "outputs": [
    {
     "name": "stdout",
     "output_type": "stream",
     "text": [
      "8\n",
      "0.008\n",
      "-32\n",
      "-0.008\n",
      "1\n"
     ]
    }
   ],
   "source": [
    "class MathOperation():\n",
    "    def Pow(self, x, n):\n",
    "        if x==0 or x==1 or n==1:\n",
    "            return x \n",
    "        if x==-1:\n",
    "            if n%2 ==0:\n",
    "                return 1\n",
    "            else:\n",
    "                return -1\n",
    "        if n==0:\n",
    "            return 1\n",
    "        if n<0:\n",
    "            return 1/self.Pow(x,-n)\n",
    "        v = self.Pow(x,n//2)\n",
    "        if n%2 ==0:\n",
    "            return v*v\n",
    "        return v*v*x\n",
    "\n",
    "print(MathOperation().Pow(2, 3))\n",
    "print(MathOperation().Pow(5, -3))\n",
    "print(MathOperation().Pow(-2, 5))\n",
    "print(MathOperation().Pow(-5, -3))\n",
    "print(MathOperation().Pow(2000, 0))"
   ]
  },
  {
   "cell_type": "markdown",
   "metadata": {},
   "source": [
    "## 3. Base & Derived"
   ]
  },
  {
   "cell_type": "code",
   "execution_count": 28,
   "metadata": {},
   "outputs": [
    {
     "name": "stdout",
     "output_type": "stream",
     "text": [
      "True\n",
      "False\n",
      "False\n",
      "True\n"
     ]
    }
   ],
   "source": [
    "class Airbus():\n",
    "    def Corp(self):\n",
    "        print(\"European aerospace corporation\")\n",
    "class A350_XWB(Airbus):\n",
    "    def wide_body_jet(self):\n",
    "        print(\"A350 XWB is an extra wide-body jet\")\n",
    "    def Passenger_capacity(self):\n",
    "        print(\"A350 XWB can accomodate 280 to 360 passengers\")\n",
    "\n",
    "A320neo=Airbus()\n",
    "A350_1000=A350_XWB()\n",
    "\n",
    "print(issubclass(A350_XWB, Airbus)) \n",
    "print(issubclass(Airbus, A350_XWB)) \n",
    "print(isinstance(A320neo, A350_XWB)) \n",
    "print(isinstance(A350_1000, Airbus))"
   ]
  },
  {
   "cell_type": "markdown",
   "metadata": {},
   "source": [
    "## 4. Base class with two methods"
   ]
  },
  {
   "cell_type": "code",
   "execution_count": 40,
   "metadata": {},
   "outputs": [
    {
     "name": "stdout",
     "output_type": "stream",
     "text": [
      "Saraswathy K\n",
      "Swathi V\n"
     ]
    }
   ],
   "source": [
    "class Person:\n",
    "    def __init__(self, first, last):\n",
    "        self.first = first\n",
    "        self.last = last\n",
    "    def __str__(self):\n",
    "        return self.first + \" \" + self.last\n",
    "\n",
    "class Employee(Person):\n",
    "    def __init__(self, first, last, email):\n",
    "        super().__init__(first, last)\n",
    "        self.email = email\n",
    "\n",
    "print(Person(\"Saraswathy\", \"K\"))\n",
    "print(Employee(\"Swathi\", \"V\", \"swathiv@company.com\"))"
   ]
  }
 ],
 "metadata": {
  "kernelspec": {
   "display_name": "Python 3",
   "language": "python",
   "name": "python3"
  },
  "language_info": {
   "codemirror_mode": {
    "name": "ipython",
    "version": 3
   },
   "file_extension": ".py",
   "mimetype": "text/x-python",
   "name": "python",
   "nbconvert_exporter": "python",
   "pygments_lexer": "ipython3",
   "version": "3.6.5"
  }
 },
 "nbformat": 4,
 "nbformat_minor": 2
}
