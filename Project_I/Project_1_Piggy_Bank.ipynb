{
 "cells": [
  {
   "cell_type": "code",
   "execution_count": 20,
   "metadata": {},
   "outputs": [
    {
     "name": "stdout",
     "output_type": "stream",
     "text": [
      "Hi there!! Please enter your registered name: Saras\n",
      "---------------------Dear Saras, Welcome to Piggy Bank!!!---------------------\n",
      "Start or End: Start\n",
      "Deposit, Amount or Withdraw: Deposit\n",
      "Deposit amount: 1000\n",
      "After depositing, your updated balance is INR 1000.0\n",
      "Start or End: start\n",
      "Deposit, Amount or Withdraw: Withdraw\n",
      "Withdraw amount: 4000\n",
      "Sorry for the inconvenience. Your available balance is INR 1000.0\n",
      "Start or End: Start\n",
      "Deposit, Amount or Withdraw: withdraw\n",
      "Withdraw amount: 200\n",
      "After withdrawing, your updated balance is INR 800.0\n",
      "Start or End: start\n",
      "Deposit, Amount or Withdraw: amount\n",
      "Your account balance is INR 800.0 rupees\n",
      "Start or End: start\n",
      "Deposit, Amount or Withdraw: amnt\n",
      "Oops!! Please try from the available options\n",
      "Deposit, Amount or Withdraw: amount\n",
      "Your account balance is INR 800.0 rupees\n",
      "Start or End: end\n",
      "Thank you for banking with us.Save money, Stay Smart, Stay Happy!!!\n"
     ]
    }
   ],
   "source": [
    "class BankAccount:\n",
    "    kid_name=input(\"Hi there!! Please enter your registered name: \")\n",
    "    print(\"---------------------Dear {}, Welcome to Piggy Bank!!!---------------------\".format(kid_name))\n",
    "    def __init__(self):\n",
    "        self.balance = 0\n",
    "        self.interface()\n",
    "        \n",
    "    def withdraw(self):\n",
    "        amount = float(input(\"Withdraw amount: \"))\n",
    "        if amount <= self.balance: \n",
    "            self.balance -= amount\n",
    "            print(\"After withdrawing, your updated balance is INR {}\".format(self.balance))\n",
    "        else:\n",
    "            print(\"Sorry for the inconvenience. Your available balance is INR {}\".format(self.balance))\n",
    "            \n",
    "    def deposit(self):\n",
    "        amount = float(input(\"Deposit amount: \"))\n",
    "        self.balance += amount\n",
    "        print(\"After depositing, your updated balance is INR {}\".format(self.balance))\n",
    "\n",
    "    def amount(self):\n",
    "        print(\"Your account balance is INR {} rupees\".format(self.balance))\n",
    "        \n",
    "    def interface(self):\n",
    "        options = {\"DEPOSIT\": self.deposit, \"AMOUNT\": self.amount, \"WITHDRAW\": self.withdraw}\n",
    "        step1=(input(\"Start or End: \")).upper()\n",
    "        while step1 == \"START\":\n",
    "            step12 = (input(\"Deposit, Amount or Withdraw: \")).upper()\n",
    "            if step12 in options.keys():\n",
    "                options[step12]()\n",
    "                step1 = (input(\"Start or End: \")).upper()   \n",
    "            else:\n",
    "                print(\"Oops!! Please try from the available options\")\n",
    "        else:\n",
    "            print(\"Thank you for banking with us.Save money, Stay Smart, Stay Happy!!!\")\n",
    "\n",
    "account = BankAccount()"
   ]
  }
 ],
 "metadata": {
  "kernelspec": {
   "display_name": "Python 3",
   "language": "python",
   "name": "python3"
  },
  "language_info": {
   "codemirror_mode": {
    "name": "ipython",
    "version": 3
   },
   "file_extension": ".py",
   "mimetype": "text/x-python",
   "name": "python",
   "nbconvert_exporter": "python",
   "pygments_lexer": "ipython3",
   "version": "3.6.5"
  }
 },
 "nbformat": 4,
 "nbformat_minor": 2
}
